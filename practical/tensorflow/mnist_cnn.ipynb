{
 "cells": [
  {
   "cell_type": "markdown",
   "id": "ebddde10",
   "metadata": {},
   "source": [
    "# Task 2 — Deep Learning with TensorFlow \n",
    "### Dataset: MNIST Handwritten Digits\n",
    "#### Objectives:\n",
    "- Build and train a CNN to classify handwritten digits (0–9).\n",
    "- Achieve >95% accuracy.\n",
    "- Visualize model predictions on 5 test samples.\n",
    "- Save trained model for later deployment."
   ]
  },
  {
   "cell_type": "code",
   "execution_count": 9,
   "id": "997c42f0",
   "metadata": {},
   "outputs": [
    {
     "name": "stdout",
     "output_type": "stream",
     "text": [
      "Libraries imported successfully! TensorFlow version: 2.20.0\n"
     ]
    }
   ],
   "source": [
    "# ============================\n",
    "# 1 Import Dependencies\n",
    "# ============================\n",
    "# Import TensorFlow library for deep learning operations\n",
    "import tensorflow as tf\n",
    "# Import specific modules from TensorFlow Keras for building neural network layers and models\n",
    "from tensorflow.keras import layers, models  # type: ignore\n",
    "# Import ImageDataGenerator for data augmentation\n",
    "from tensorflow.keras.preprocessing.image import ImageDataGenerator  # type: ignore\n",
    "# Import matplotlib for plotting and visualization\n",
    "import matplotlib.pyplot as plt\n",
    "# Import NumPy for numerical operations and array handling\n",
    "import numpy as np\n",
    "# Print confirmation of successful imports and TensorFlow version\n",
    "print('Libraries imported successfully! TensorFlow version:', tf.__version__)"
   ]
  },
  {
   "cell_type": "code",
   "execution_count": 10,
   "id": "b4257754",
   "metadata": {},
   "outputs": [
    {
     "name": "stdout",
     "output_type": "stream",
     "text": [
      "Train set: (60000, 28, 28, 1)  Test set: (10000, 28, 28, 1)\n"
     ]
    }
   ],
   "source": [
    "# ============================\n",
    "# 2 Load and Preprocess Data\n",
    "# ============================\n",
    "# Load the MNIST dataset from Keras datasets\n",
    "# MNIST contains 70,000 handwritten digit images (28x28 pixels)\n",
    "# x_train, y_train: training images and labels\n",
    "# x_test, y_test: test images and labels\n",
    "(x_train, y_train), (x_test, y_test) = tf.keras.datasets.mnist.load_data()\n",
    "\n",
    "# Normalize pixel values from 0-255 to 0-1 for better neural network performance\n",
    "# This also converts the data to float32 implicitly\n",
    "x_train, x_test = x_train / 255.0, x_test / 255.0\n",
    "\n",
    "# Reshape images to include a channel dimension for CNN input\n",
    "# Original shape: (num_samples, 28, 28) -> New shape: (num_samples, 28, 28, 1)\n",
    "# CNNs expect 4D tensors: (batch_size, height, width, channels)\n",
    "x_train = x_train.reshape(-1, 28, 28, 1)\n",
    "x_test = x_test.reshape(-1, 28, 28, 1)\n",
    "\n",
    "# Print the shapes of training and test sets to verify preprocessing\n",
    "print('Train set:', x_train.shape, ' Test set:', x_test.shape)"
   ]
  },
  {
   "cell_type": "code",
   "execution_count": 11,
   "id": "f832a605",
   "metadata": {},
   "outputs": [],
   "source": [
    "# ============================\n",
    "# 2.5 Data Augmentation for Robustness\n",
    "# ============================\n",
    "# To improve model robustness against varied handwriting styles,\n",
    "# apply data augmentation techniques like rotation, shift, and zoom.\n",
    "datagen = ImageDataGenerator(\n",
    "    rotation_range=10,      # Rotate images by up to 10 degrees\n",
    "    width_shift_range=0.1,  # Shift horizontally by up to 10%\n",
    "    height_shift_range=0.1, # Shift vertically by up to 10%\n",
    "    zoom_range=0.1          # Zoom in/out by up to 10%\n",
    ")\n",
    "# Fit the generator on training data to learn stats\n",
    "datagen.fit(x_train)"
   ]
  },
  {
   "cell_type": "code",
   "execution_count": 12,
   "id": "68cd03f0",
   "metadata": {},
   "outputs": [
    {
     "data": {
      "text/html": [
       "<pre style=\"white-space:pre;overflow-x:auto;line-height:normal;font-family:Menlo,'DejaVu Sans Mono',consolas,'Courier New',monospace\"><span style=\"font-weight: bold\">Model: \"sequential_1\"</span>\n",
       "</pre>\n"
      ],
      "text/plain": [
       "\u001b[1mModel: \"sequential_1\"\u001b[0m\n"
      ]
     },
     "metadata": {},
     "output_type": "display_data"
    },
    {
     "data": {
      "text/html": [
       "<pre style=\"white-space:pre;overflow-x:auto;line-height:normal;font-family:Menlo,'DejaVu Sans Mono',consolas,'Courier New',monospace\">┏━━━━━━━━━━━━━━━━━━━━━━━━━━━━━━━━━┳━━━━━━━━━━━━━━━━━━━━━━━━┳━━━━━━━━━━━━━━━┓\n",
       "┃<span style=\"font-weight: bold\"> Layer (type)                    </span>┃<span style=\"font-weight: bold\"> Output Shape           </span>┃<span style=\"font-weight: bold\">       Param # </span>┃\n",
       "┡━━━━━━━━━━━━━━━━━━━━━━━━━━━━━━━━━╇━━━━━━━━━━━━━━━━━━━━━━━━╇━━━━━━━━━━━━━━━┩\n",
       "│ conv2d_2 (<span style=\"color: #0087ff; text-decoration-color: #0087ff\">Conv2D</span>)               │ (<span style=\"color: #00d7ff; text-decoration-color: #00d7ff\">None</span>, <span style=\"color: #00af00; text-decoration-color: #00af00\">26</span>, <span style=\"color: #00af00; text-decoration-color: #00af00\">26</span>, <span style=\"color: #00af00; text-decoration-color: #00af00\">32</span>)     │           <span style=\"color: #00af00; text-decoration-color: #00af00\">320</span> │\n",
       "├─────────────────────────────────┼────────────────────────┼───────────────┤\n",
       "│ max_pooling2d_2 (<span style=\"color: #0087ff; text-decoration-color: #0087ff\">MaxPooling2D</span>)  │ (<span style=\"color: #00d7ff; text-decoration-color: #00d7ff\">None</span>, <span style=\"color: #00af00; text-decoration-color: #00af00\">13</span>, <span style=\"color: #00af00; text-decoration-color: #00af00\">13</span>, <span style=\"color: #00af00; text-decoration-color: #00af00\">32</span>)     │             <span style=\"color: #00af00; text-decoration-color: #00af00\">0</span> │\n",
       "├─────────────────────────────────┼────────────────────────┼───────────────┤\n",
       "│ conv2d_3 (<span style=\"color: #0087ff; text-decoration-color: #0087ff\">Conv2D</span>)               │ (<span style=\"color: #00d7ff; text-decoration-color: #00d7ff\">None</span>, <span style=\"color: #00af00; text-decoration-color: #00af00\">11</span>, <span style=\"color: #00af00; text-decoration-color: #00af00\">11</span>, <span style=\"color: #00af00; text-decoration-color: #00af00\">64</span>)     │        <span style=\"color: #00af00; text-decoration-color: #00af00\">18,496</span> │\n",
       "├─────────────────────────────────┼────────────────────────┼───────────────┤\n",
       "│ max_pooling2d_3 (<span style=\"color: #0087ff; text-decoration-color: #0087ff\">MaxPooling2D</span>)  │ (<span style=\"color: #00d7ff; text-decoration-color: #00d7ff\">None</span>, <span style=\"color: #00af00; text-decoration-color: #00af00\">5</span>, <span style=\"color: #00af00; text-decoration-color: #00af00\">5</span>, <span style=\"color: #00af00; text-decoration-color: #00af00\">64</span>)       │             <span style=\"color: #00af00; text-decoration-color: #00af00\">0</span> │\n",
       "├─────────────────────────────────┼────────────────────────┼───────────────┤\n",
       "│ flatten_1 (<span style=\"color: #0087ff; text-decoration-color: #0087ff\">Flatten</span>)             │ (<span style=\"color: #00d7ff; text-decoration-color: #00d7ff\">None</span>, <span style=\"color: #00af00; text-decoration-color: #00af00\">1600</span>)           │             <span style=\"color: #00af00; text-decoration-color: #00af00\">0</span> │\n",
       "├─────────────────────────────────┼────────────────────────┼───────────────┤\n",
       "│ dense_2 (<span style=\"color: #0087ff; text-decoration-color: #0087ff\">Dense</span>)                 │ (<span style=\"color: #00d7ff; text-decoration-color: #00d7ff\">None</span>, <span style=\"color: #00af00; text-decoration-color: #00af00\">64</span>)             │       <span style=\"color: #00af00; text-decoration-color: #00af00\">102,464</span> │\n",
       "├─────────────────────────────────┼────────────────────────┼───────────────┤\n",
       "│ dropout_1 (<span style=\"color: #0087ff; text-decoration-color: #0087ff\">Dropout</span>)             │ (<span style=\"color: #00d7ff; text-decoration-color: #00d7ff\">None</span>, <span style=\"color: #00af00; text-decoration-color: #00af00\">64</span>)             │             <span style=\"color: #00af00; text-decoration-color: #00af00\">0</span> │\n",
       "├─────────────────────────────────┼────────────────────────┼───────────────┤\n",
       "│ dense_3 (<span style=\"color: #0087ff; text-decoration-color: #0087ff\">Dense</span>)                 │ (<span style=\"color: #00d7ff; text-decoration-color: #00d7ff\">None</span>, <span style=\"color: #00af00; text-decoration-color: #00af00\">10</span>)             │           <span style=\"color: #00af00; text-decoration-color: #00af00\">650</span> │\n",
       "└─────────────────────────────────┴────────────────────────┴───────────────┘\n",
       "</pre>\n"
      ],
      "text/plain": [
       "┏━━━━━━━━━━━━━━━━━━━━━━━━━━━━━━━━━┳━━━━━━━━━━━━━━━━━━━━━━━━┳━━━━━━━━━━━━━━━┓\n",
       "┃\u001b[1m \u001b[0m\u001b[1mLayer (type)                   \u001b[0m\u001b[1m \u001b[0m┃\u001b[1m \u001b[0m\u001b[1mOutput Shape          \u001b[0m\u001b[1m \u001b[0m┃\u001b[1m \u001b[0m\u001b[1m      Param #\u001b[0m\u001b[1m \u001b[0m┃\n",
       "┡━━━━━━━━━━━━━━━━━━━━━━━━━━━━━━━━━╇━━━━━━━━━━━━━━━━━━━━━━━━╇━━━━━━━━━━━━━━━┩\n",
       "│ conv2d_2 (\u001b[38;5;33mConv2D\u001b[0m)               │ (\u001b[38;5;45mNone\u001b[0m, \u001b[38;5;34m26\u001b[0m, \u001b[38;5;34m26\u001b[0m, \u001b[38;5;34m32\u001b[0m)     │           \u001b[38;5;34m320\u001b[0m │\n",
       "├─────────────────────────────────┼────────────────────────┼───────────────┤\n",
       "│ max_pooling2d_2 (\u001b[38;5;33mMaxPooling2D\u001b[0m)  │ (\u001b[38;5;45mNone\u001b[0m, \u001b[38;5;34m13\u001b[0m, \u001b[38;5;34m13\u001b[0m, \u001b[38;5;34m32\u001b[0m)     │             \u001b[38;5;34m0\u001b[0m │\n",
       "├─────────────────────────────────┼────────────────────────┼───────────────┤\n",
       "│ conv2d_3 (\u001b[38;5;33mConv2D\u001b[0m)               │ (\u001b[38;5;45mNone\u001b[0m, \u001b[38;5;34m11\u001b[0m, \u001b[38;5;34m11\u001b[0m, \u001b[38;5;34m64\u001b[0m)     │        \u001b[38;5;34m18,496\u001b[0m │\n",
       "├─────────────────────────────────┼────────────────────────┼───────────────┤\n",
       "│ max_pooling2d_3 (\u001b[38;5;33mMaxPooling2D\u001b[0m)  │ (\u001b[38;5;45mNone\u001b[0m, \u001b[38;5;34m5\u001b[0m, \u001b[38;5;34m5\u001b[0m, \u001b[38;5;34m64\u001b[0m)       │             \u001b[38;5;34m0\u001b[0m │\n",
       "├─────────────────────────────────┼────────────────────────┼───────────────┤\n",
       "│ flatten_1 (\u001b[38;5;33mFlatten\u001b[0m)             │ (\u001b[38;5;45mNone\u001b[0m, \u001b[38;5;34m1600\u001b[0m)           │             \u001b[38;5;34m0\u001b[0m │\n",
       "├─────────────────────────────────┼────────────────────────┼───────────────┤\n",
       "│ dense_2 (\u001b[38;5;33mDense\u001b[0m)                 │ (\u001b[38;5;45mNone\u001b[0m, \u001b[38;5;34m64\u001b[0m)             │       \u001b[38;5;34m102,464\u001b[0m │\n",
       "├─────────────────────────────────┼────────────────────────┼───────────────┤\n",
       "│ dropout_1 (\u001b[38;5;33mDropout\u001b[0m)             │ (\u001b[38;5;45mNone\u001b[0m, \u001b[38;5;34m64\u001b[0m)             │             \u001b[38;5;34m0\u001b[0m │\n",
       "├─────────────────────────────────┼────────────────────────┼───────────────┤\n",
       "│ dense_3 (\u001b[38;5;33mDense\u001b[0m)                 │ (\u001b[38;5;45mNone\u001b[0m, \u001b[38;5;34m10\u001b[0m)             │           \u001b[38;5;34m650\u001b[0m │\n",
       "└─────────────────────────────────┴────────────────────────┴───────────────┘\n"
      ]
     },
     "metadata": {},
     "output_type": "display_data"
    },
    {
     "data": {
      "text/html": [
       "<pre style=\"white-space:pre;overflow-x:auto;line-height:normal;font-family:Menlo,'DejaVu Sans Mono',consolas,'Courier New',monospace\"><span style=\"font-weight: bold\"> Total params: </span><span style=\"color: #00af00; text-decoration-color: #00af00\">121,930</span> (476.29 KB)\n",
       "</pre>\n"
      ],
      "text/plain": [
       "\u001b[1m Total params: \u001b[0m\u001b[38;5;34m121,930\u001b[0m (476.29 KB)\n"
      ]
     },
     "metadata": {},
     "output_type": "display_data"
    },
    {
     "data": {
      "text/html": [
       "<pre style=\"white-space:pre;overflow-x:auto;line-height:normal;font-family:Menlo,'DejaVu Sans Mono',consolas,'Courier New',monospace\"><span style=\"font-weight: bold\"> Trainable params: </span><span style=\"color: #00af00; text-decoration-color: #00af00\">121,930</span> (476.29 KB)\n",
       "</pre>\n"
      ],
      "text/plain": [
       "\u001b[1m Trainable params: \u001b[0m\u001b[38;5;34m121,930\u001b[0m (476.29 KB)\n"
      ]
     },
     "metadata": {},
     "output_type": "display_data"
    },
    {
     "data": {
      "text/html": [
       "<pre style=\"white-space:pre;overflow-x:auto;line-height:normal;font-family:Menlo,'DejaVu Sans Mono',consolas,'Courier New',monospace\"><span style=\"font-weight: bold\"> Non-trainable params: </span><span style=\"color: #00af00; text-decoration-color: #00af00\">0</span> (0.00 B)\n",
       "</pre>\n"
      ],
      "text/plain": [
       "\u001b[1m Non-trainable params: \u001b[0m\u001b[38;5;34m0\u001b[0m (0.00 B)\n"
      ]
     },
     "metadata": {},
     "output_type": "display_data"
    }
   ],
   "source": [
    "# ============================\n",
    "# 3 Build CNN Architecture\n",
    "# ============================\n",
    "# Create a Sequential model - layers are stacked sequentially\n",
    "model = models.Sequential([\n",
    "    # First convolutional layer: 32 filters of 3x3, ReLU activation\n",
    "    # input_shape specifies the shape of input images (28x28x1)\n",
    "    layers.Conv2D(32, (3, 3), activation='relu', input_shape=(28, 28, 1)),\n",
    "    # First max pooling layer: 2x2 pool size reduces spatial dimensions by half\n",
    "    layers.MaxPooling2D((2, 2)),\n",
    "    # Second convolutional layer: 64 filters of 3x3, ReLU activation\n",
    "    layers.Conv2D(64, (3, 3), activation='relu'),\n",
    "    # Second max pooling layer: 2x2 pool size further reduces dimensions\n",
    "    layers.MaxPooling2D((2, 2)),\n",
    "    # Flatten layer: converts 2D feature maps to 1D vector for dense layers\n",
    "    layers.Flatten(),\n",
    "    # First dense layer: 64 neurons with ReLU activation for feature processing\n",
    "    layers.Dense(64, activation='relu'),\n",
    "    # Dropout layer: randomly set 50% of inputs to zero during training to prevent overfitting\n",
    "    layers.Dropout(0.5),\n",
    "    # Output layer: 10 neurons (one for each digit 0-9) with softmax activation\n",
    "    # Softmax converts outputs to probabilities that sum to 1\n",
    "    layers.Dense(10, activation='softmax')\n",
    "])\n",
    "\n",
    "# Display a summary of the model architecture including layer details and parameters\n",
    "model.summary()"
   ]
  },
  {
   "cell_type": "code",
   "execution_count": 13,
   "id": "10f16446",
   "metadata": {},
   "outputs": [
    {
     "name": "stdout",
     "output_type": "stream",
     "text": [
      "Epoch 1/15\n",
      "\u001b[1m469/469\u001b[0m \u001b[32m━━━━━━━━━━━━━━━━━━━━\u001b[0m\u001b[37m\u001b[0m \u001b[1m64s\u001b[0m 122ms/step - accuracy: 0.7645 - loss: 0.7255 - val_accuracy: 0.9782 - val_loss: 0.0737\n",
      "Epoch 2/15\n",
      "\u001b[1m469/469\u001b[0m \u001b[32m━━━━━━━━━━━━━━━━━━━━\u001b[0m\u001b[37m\u001b[0m \u001b[1m41s\u001b[0m 88ms/step - accuracy: 0.9028 - loss: 0.3163 - val_accuracy: 0.9819 - val_loss: 0.0538\n",
      "Epoch 3/15\n",
      "\u001b[1m469/469\u001b[0m \u001b[32m━━━━━━━━━━━━━━━━━━━━\u001b[0m\u001b[37m\u001b[0m \u001b[1m44s\u001b[0m 94ms/step - accuracy: 0.9269 - loss: 0.2434 - val_accuracy: 0.9861 - val_loss: 0.0394\n",
      "Epoch 4/15\n",
      "\u001b[1m469/469\u001b[0m \u001b[32m━━━━━━━━━━━━━━━━━━━━\u001b[0m\u001b[37m\u001b[0m \u001b[1m47s\u001b[0m 101ms/step - accuracy: 0.9397 - loss: 0.2009 - val_accuracy: 0.9891 - val_loss: 0.0321\n",
      "Epoch 5/15\n",
      "\u001b[1m469/469\u001b[0m \u001b[32m━━━━━━━━━━━━━━━━━━━━\u001b[0m\u001b[37m\u001b[0m \u001b[1m37s\u001b[0m 79ms/step - accuracy: 0.9492 - loss: 0.1742 - val_accuracy: 0.9907 - val_loss: 0.0266\n",
      "Epoch 6/15\n",
      "\u001b[1m469/469\u001b[0m \u001b[32m━━━━━━━━━━━━━━━━━━━━\u001b[0m\u001b[37m\u001b[0m \u001b[1m39s\u001b[0m 82ms/step - accuracy: 0.9549 - loss: 0.1526 - val_accuracy: 0.9908 - val_loss: 0.0271\n",
      "Epoch 7/15\n",
      "\u001b[1m469/469\u001b[0m \u001b[32m━━━━━━━━━━━━━━━━━━━━\u001b[0m\u001b[37m\u001b[0m \u001b[1m39s\u001b[0m 83ms/step - accuracy: 0.9587 - loss: 0.1373 - val_accuracy: 0.9896 - val_loss: 0.0282\n",
      "Epoch 8/15\n",
      "\u001b[1m469/469\u001b[0m \u001b[32m━━━━━━━━━━━━━━━━━━━━\u001b[0m\u001b[37m\u001b[0m \u001b[1m61s\u001b[0m 131ms/step - accuracy: 0.9619 - loss: 0.1300 - val_accuracy: 0.9917 - val_loss: 0.0234\n",
      "Epoch 9/15\n",
      "\u001b[1m469/469\u001b[0m \u001b[32m━━━━━━━━━━━━━━━━━━━━\u001b[0m\u001b[37m\u001b[0m \u001b[1m44s\u001b[0m 93ms/step - accuracy: 0.9631 - loss: 0.1247 - val_accuracy: 0.9909 - val_loss: 0.0261\n",
      "Epoch 10/15\n",
      "\u001b[1m469/469\u001b[0m \u001b[32m━━━━━━━━━━━━━━━━━━━━\u001b[0m\u001b[37m\u001b[0m \u001b[1m41s\u001b[0m 87ms/step - accuracy: 0.9681 - loss: 0.1108 - val_accuracy: 0.9895 - val_loss: 0.0287\n",
      "Epoch 11/15\n",
      "\u001b[1m469/469\u001b[0m \u001b[32m━━━━━━━━━━━━━━━━━━━━\u001b[0m\u001b[37m\u001b[0m \u001b[1m38s\u001b[0m 81ms/step - accuracy: 0.9678 - loss: 0.1098 - val_accuracy: 0.9930 - val_loss: 0.0215\n",
      "Epoch 12/15\n",
      "\u001b[1m469/469\u001b[0m \u001b[32m━━━━━━━━━━━━━━━━━━━━\u001b[0m\u001b[37m\u001b[0m \u001b[1m43s\u001b[0m 92ms/step - accuracy: 0.9702 - loss: 0.1008 - val_accuracy: 0.9918 - val_loss: 0.0242\n",
      "Epoch 13/15\n",
      "\u001b[1m469/469\u001b[0m \u001b[32m━━━━━━━━━━━━━━━━━━━━\u001b[0m\u001b[37m\u001b[0m \u001b[1m41s\u001b[0m 88ms/step - accuracy: 0.9715 - loss: 0.0987 - val_accuracy: 0.9924 - val_loss: 0.0246\n",
      "Epoch 14/15\n",
      "\u001b[1m469/469\u001b[0m \u001b[32m━━━━━━━━━━━━━━━━━━━━\u001b[0m\u001b[37m\u001b[0m \u001b[1m50s\u001b[0m 106ms/step - accuracy: 0.9714 - loss: 0.0975 - val_accuracy: 0.9931 - val_loss: 0.0213\n",
      "Epoch 15/15\n",
      "\u001b[1m469/469\u001b[0m \u001b[32m━━━━━━━━━━━━━━━━━━━━\u001b[0m\u001b[37m\u001b[0m \u001b[1m40s\u001b[0m 85ms/step - accuracy: 0.9740 - loss: 0.0896 - val_accuracy: 0.9933 - val_loss: 0.0197\n"
     ]
    }
   ],
   "source": [
    "# ============================\n",
    "# 4 Compile and Train the Model\n",
    "# ============================\n",
    "# Compile the model with:\n",
    "# - Adam optimizer: adaptive learning rate optimization algorithm\n",
    "# - Sparse categorical crossentropy: suitable for integer labels (0-9) without one-hot encoding\n",
    "# - Accuracy metric: tracks percentage of correctly predicted labels\n",
    "model.compile(optimizer='adam', loss='sparse_categorical_crossentropy', metrics=['accuracy'])\n",
    "\n",
    "# Train the model using data augmentation for more robust performance\n",
    "# - Use datagen.flow to generate augmented batches on-the-fly\n",
    "# - epochs increased to 15 for better convergence with augmentation\n",
    "# - batch_size=128: process 128 samples at a time\n",
    "# - validation_data: use fixed test set for validation (no augmentation)\n",
    "# - verbose=1: show progress bar\n",
    "history = model.fit(datagen.flow(x_train, y_train, batch_size=128), epochs=15, validation_data=(x_test, y_test), verbose=1)\n",
    "\n",
    "# Alternative pure augmentation (if pref train/test split):\n",
    "# history = model.fit(datagen.flow(x_train, y_train, batch_size=128), epochs=15, validation_split=0.1, batch_size=128, verbose=1)"
   ]
  },
  {
   "cell_type": "code",
   "execution_count": 14,
   "id": "efc9bce4",
   "metadata": {},
   "outputs": [
    {
     "name": "stdout",
     "output_type": "stream",
     "text": [
      "\n",
      "Test Accuracy: 99.33%\n"
     ]
    }
   ],
   "source": [
    "# ============================\n",
    "# 5 Evaluate Model Accuracy\n",
    "# ============================\n",
    "# Evaluate the trained model on the test set (unseen data)\n",
    "# Returns loss value and computed metrics (accuracy in this case)\n",
    "# verbose=0: silent evaluation, no progress bar shown\n",
    "test_loss, test_acc = model.evaluate(x_test, y_test, verbose=0)\n",
    "\n",
    "# Print the test accuracy as a percentage with 2 decimal places\n",
    "print(f'\\nTest Accuracy: {test_acc*100:.2f}%')"
   ]
  },
  {
   "cell_type": "code",
   "execution_count": 15,
   "id": "a26034d9",
   "metadata": {},
   "outputs": [
    {
     "name": "stderr",
     "output_type": "stream",
     "text": [
      "WARNING:absl:You are saving your model as an HDF5 file via `model.save()` or `keras.saving.save_model(model)`. This file format is considered legacy. We recommend using instead the native Keras format, e.g. `model.save('my_model.keras')` or `keras.saving.save_model(model, 'my_model.keras')`. \n"
     ]
    },
    {
     "name": "stdout",
     "output_type": "stream",
     "text": [
      "Model saved to ../../bonus/mnist_cnn_improved_model.h5\n"
     ]
    }
   ],
   "source": [
    "# ============================\n",
    "# 6 Save Model for Deployment\n",
    "# ============================\n",
    "# Save the trained model to disk in HDF5 format\n",
    "# This includes the model architecture, weights, and compilation configuration\n",
    "# Can be loaded later for inference or further training\n",
    "model.save('../../bonus/mnist_cnn_improved_model.h5')\n",
    "\n",
    "# Confirm that the model has been saved successfully\n",
    "print('Model saved to ../../bonus/mnist_cnn_improved_model.h5')"
   ]
  },
  {
   "cell_type": "code",
   "execution_count": 16,
   "id": "1fd2d0a6",
   "metadata": {},
   "outputs": [
    {
     "name": "stdout",
     "output_type": "stream",
     "text": [
      "\u001b[1m1/1\u001b[0m \u001b[32m━━━━━━━━━━━━━━━━━━━━\u001b[0m\u001b[37m\u001b[0m \u001b[1m0s\u001b[0m 185ms/step\n"
     ]
    },
    {
     "data": {
      "image/png": "[encoded data removed]",
      "text/plain": [
       "<Figure size 1000x200 with 5 Axes>"
      ]
     },
     "metadata": {},
     "output_type": "display_data"
    }
   ],
   "source": [
    "# ============================\n",
    "# 7 Visualize Predictions on 5 Random Images\n",
    "# ============================\n",
    "# Select 5 random indices from the test set without replacement\n",
    "indices = np.random.choice(len(x_test), 5, replace=False)\n",
    "\n",
    "# Extract the corresponding images and true labels\n",
    "images = x_test[indices]\n",
    "labels = y_test[indices]\n",
    "\n",
    "# Generate predictions for the selected images using the trained model\n",
    "# Use argmax to convert softmax probabilities to class predictions (0-9)\n",
    "predictions = np.argmax(model.predict(images), axis=1)\n",
    "\n",
    "# Create a 1x5 subplot figure for visualization\n",
    "plt.figure(figsize=(10, 2))\n",
    "for i, idx in enumerate(indices):\n",
    "    # Create subplot for each image\n",
    "    plt.subplot(1, 5, i+1)\n",
    "\n",
    "    # Display the image in grayscale\n",
    "    plt.imshow(images[i].reshape(28, 28), cmap='gray')\n",
    "\n",
    "    # Set title showing true label and predicted label\n",
    "    plt.title(f'True: {labels[i]}\\nPred: {predictions[i]}')\n",
    "\n",
    "    # Turn off axis labels for cleaner visualization\n",
    "    plt.axis('off')\n",
    "\n",
    "# Adjust layout to prevent overlapping\n",
    "plt.tight_layout()\n",
    "\n",
    "# Display the plot\n",
    "plt.show()"
   ]
  }
 ],
 "metadata": {
  "kernelspec": {
   "display_name": ".venv",
   "language": "python",
   "name": "python3"
  },
  "language_info": {
   "codemirror_mode": {
    "name": "ipython",
    "version": 3
   },
   "file_extension": ".py",
   "mimetype": "text/x-python",
   "name": "python",
   "nbconvert_exporter": "python",
   "pygments_lexer": "ipython3",
   "version": "3.12.0"
  }
 },
 "nbformat": 4,
 "nbformat_minor": 5
}
