{
 "cells": [
  {
   "cell_type": "markdown",
   "metadata": {},
   "source": [
    "# Task 1 — Classical ML with Scikit-learn\n",
    "\n",
    "## Dataset: **Iris Species Dataset**\n",
    "\n",
    "### Goal:\n",
    "This notebook demonstrates a classical machine learning workflow using the Iris Species Dataset. The primary objectives are:\n",
    "- **Data Preprocessing:** Handle missing values and prepare the data for model training.\n",
    "- **Model Training:** Train a Decision Tree Classifier on the preprocessed data.\n",
    "- **Model Evaluation:** Assess the model's performance using standard metrics like accuracy, precision, and recall."
   ]
  },
  {
   "cell_type": "code",
   "execution_count": 1,
   "metadata": {},
   "outputs": [],
   "source": [
    "# Import necessary libraries for data manipulation, machine learning, and evaluation.\n",
    "import pandas as pd # Used for creating and manipulating DataFrames and Series.\n",
    "from typing import Any # Import Any for type hinting\n",
    "from sklearn.datasets import load_iris # Function to load the famous Iris flower dataset.\n",
    "from sklearn.model_selection import train_test_split # Utility to split datasets into training and testing subsets.\n",
    "from sklearn.tree import DecisionTreeClassifier # The machine learning model we will be using.\n",
    "from sklearn.metrics import accuracy_score, precision_score, recall_score, classification_report # Functions to evaluate the model's performance.\n",
    "import numpy as np # Used for numerical operations, especially for handling NaN (Not a Number) values."
   ]
  },
  {
   "cell_type": "code",
   "execution_count": 2,
   "metadata": {},
   "outputs": [
    {
     "data": {
      "text/html": [
       "<div>\n",
       "<style scoped>\n",
       "    .dataframe tbody tr th:only-of-type {\n",
       "        vertical-align: middle;\n",
       "    }\n",
       "\n",
       "    .dataframe tbody tr th {\n",
       "        vertical-align: top;\n",
       "    }\n",
       "\n",
       "    .dataframe thead th {\n",
       "        text-align: right;\n",
       "    }\n",
       "</style>\n",
       "<table border=\"1\" class=\"dataframe\">\n",
       "  <thead>\n",
       "    <tr style=\"text-align: right;\">\n",
       "      <th></th>\n",
       "      <th>sepal length (cm)</th>\n",
       "      <th>sepal width (cm)</th>\n",
       "      <th>petal length (cm)</th>\n",
       "      <th>petal width (cm)</th>\n",
       "    </tr>\n",
       "  </thead>\n",
       "  <tbody>\n",
       "    <tr>\n",
       "      <th>0</th>\n",
       "      <td>5.1</td>\n",
       "      <td>3.5</td>\n",
       "      <td>1.4</td>\n",
       "      <td>0.2</td>\n",
       "    </tr>\n",
       "    <tr>\n",
       "      <th>1</th>\n",
       "      <td>4.9</td>\n",
       "      <td>3.0</td>\n",
       "      <td>1.4</td>\n",
       "      <td>0.2</td>\n",
       "    </tr>\n",
       "    <tr>\n",
       "      <th>2</th>\n",
       "      <td>4.7</td>\n",
       "      <td>3.2</td>\n",
       "      <td>1.3</td>\n",
       "      <td>0.2</td>\n",
       "    </tr>\n",
       "    <tr>\n",
       "      <th>3</th>\n",
       "      <td>4.6</td>\n",
       "      <td>3.1</td>\n",
       "      <td>1.5</td>\n",
       "      <td>0.2</td>\n",
       "    </tr>\n",
       "    <tr>\n",
       "      <th>4</th>\n",
       "      <td>5.0</td>\n",
       "      <td>3.6</td>\n",
       "      <td>1.4</td>\n",
       "      <td>0.2</td>\n",
       "    </tr>\n",
       "  </tbody>\n",
       "</table>\n",
       "</div>"
      ],
      "text/plain": [
       "   sepal length (cm)  sepal width (cm)  petal length (cm)  petal width (cm)\n",
       "0                5.1               3.5                1.4               0.2\n",
       "1                4.9               3.0                1.4               0.2\n",
       "2                4.7               3.2                1.3               0.2\n",
       "3                4.6               3.1                1.5               0.2\n",
       "4                5.0               3.6                1.4               0.2"
      ]
     },
     "execution_count": 2,
     "metadata": {},
     "output_type": "execute_result"
    }
   ],
   "source": [
    "# --- Data Loading and Initial Inspection --- \n",
    "\n",
    "# Load the Iris dataset.\n",
    "# The 'iris' object is a Bunch object, similar to a dictionary, containing data, target, feature names, etc.\n",
    "iris: Any = load_iris()\n",
    "\n",
    "# Create a pandas DataFrame (X) from the feature data (sepal length, sepal width, petal length, petal width).\n",
    "# The column names are taken directly from `iris.feature_names` for clarity.\n",
    "X = pd.DataFrame(iris.data, columns=iris.feature_names)\n",
    "\n",
    "# Create a pandas Series (y) for the target variable (species).\n",
    "# The target values are integers (0, 1, 2) representing the three different Iris species.\n",
    "y = pd.Series(iris.target, name='species')\n",
    "\n",
    "# Display the first 5 rows of the feature DataFrame.\n",
    "# This helps in quickly understanding the structure and initial values of the dataset.\n",
    "X.head()"
   ]
  },
  {
   "cell_type": "code",
   "execution_count": 3,
   "metadata": {},
   "outputs": [
    {
     "data": {
      "text/plain": [
       "sepal length (cm)    0\n",
       "sepal width (cm)     0\n",
       "petal length (cm)    0\n",
       "petal width (cm)     0\n",
       "dtype: int64"
      ]
     },
     "execution_count": 3,
     "metadata": {},
     "output_type": "execute_result"
    }
   ],
   "source": [
    "# --- Data Preprocessing: Simulating and Handling Missing Values --- \n",
    "\n",
    "# To demonstrate robust data preprocessing, we simulate missing values in the dataset.\n",
    "# Set the value at the first row (index 0) and first column (index 0, 'sepal length (cm)') to NaN.\n",
    "X.iloc[0, 0] = np.nan\n",
    "\n",
    "# Set the value at the eleventh row (index 10) and third column (index 2, 'petal length (cm)') to NaN.\n",
    "X.iloc[10, 2] = np.nan\n",
    "\n",
    "# Handle the simulated missing values by imputing them with the mean of their respective columns.\n",
    "# This is a common strategy for numerical data to prevent loss of data rows.\n",
    "X = X.fillna(X.mean())\n",
    "\n",
    "# Verify that all missing values have been handled.\n",
    "# This command sums the boolean results of `isnull()` for each column; a sum of 0 indicates no missing values.\n",
    "X.isnull().sum()"
   ]
  },
  {
   "cell_type": "code",
   "execution_count": 4,
   "metadata": {},
   "outputs": [],
   "source": [
    "# --- Data Splitting --- \n",
    "\n",
    "# Split the dataset into training and testing sets.\n",
    "# X: Features (input data), y: Target variable (output labels).\n",
    "# test_size=0.2: Allocates 20% of the data for testing and 80% for training.\n",
    "# random_state=42: Ensures that the data split is reproducible. Using the same random_state will yield the same split every time.\n",
    "X_train, X_test, y_train, y_test = train_test_split(X, y, test_size=0.2, random_state=42)"
   ]
  },
  {
   "cell_type": "code",
   "execution_count": 5,
   "metadata": {},
   "outputs": [],
   "source": [
    "# --- Model Training --- \n",
    "\n",
    "# Initialize the Decision Tree Classifier.\n",
    "# random_state=42: Ensures reproducibility of the model's internal randomness (e.g., feature selection at splits).\n",
    "model = DecisionTreeClassifier(random_state=42)\n",
    "\n",
    "# Train the model using the training data.\n",
    "# The model learns the patterns and relationships between features (X_train) and the target variable (y_train).\n",
    "model.fit(X_train, y_train)\n",
    "\n",
    "# Make predictions on the unseen test set.\n",
    "# The model uses the learned patterns to predict the species for the test features (X_test).\n",
    "y_pred = model.predict(X_test)"
   ]
  },
  {
   "cell_type": "code",
   "execution_count": 6,
   "metadata": {},
   "outputs": [
    {
     "name": "stdout",
     "output_type": "stream",
     "text": [
      "Accuracy: 1.000\n",
      "Precision: 1.000\n",
      "Recall: 1.000\n",
      "\n",
      "Classification Report:\n",
      "               precision    recall  f1-score   support\n",
      "\n",
      "      setosa       1.00      1.00      1.00        10\n",
      "  versicolor       1.00      1.00      1.00         9\n",
      "   virginica       1.00      1.00      1.00        11\n",
      "\n",
      "    accuracy                           1.00        30\n",
      "   macro avg       1.00      1.00      1.00        30\n",
      "weighted avg       1.00      1.00      1.00        30\n",
      "\n"
     ]
    }
   ],
   "source": [
    "# --- Model Evaluation --- \n",
    "\n",
    "# Calculate Accuracy: The proportion of correctly classified instances out of the total instances.\n",
    "acc = accuracy_score(y_test, y_pred)\n",
    "\n",
    "# Calculate Precision: The ability of the classifier not to label as positive a sample that is negative.\n",
    "# 'macro' average is used for multi-class classification, calculating the metric independently for each class and then taking the average.\n",
    "prec = precision_score(y_test, y_pred, average='macro')\n",
    "\n",
    "# Calculate Recall: The ability of the classifier to find all the positive samples.\n",
    "# 'macro' average is used for multi-class classification, calculating the metric independently for each class and then taking the average.\n",
    "rec = recall_score(y_test, y_pred, average='macro')\n",
    "\n",
    "\n",
    "# Print the calculated evaluation metrics, formatted to three decimal places for readability.\n",
    "print(f'Accuracy: {acc:.3f}')\n",
    "print(f'Precision: {prec:.3f}')\n",
    "print(f'Recall: {rec:.3f}')\n",
    "\n",
    "\n",
    "# Print a comprehensive classification report.\n",
    "# This report provides precision, recall, F1-score, and support for each class, along with overall averages.\n",
    "# `target_names` are used to display the actual species names (e.g., 'setosa') instead of numerical labels (0, 1, 2).\n",
    "print('\\nClassification Report:\\n', classification_report(y_test, y_pred, target_names=iris.target_names))"
   ]
  }
 ],
 "metadata": {
  "kernelspec": {
   "display_name": ".venv",
   "language": "python",
   "name": "python3"
  },
  "language_info": {
   "codemirror_mode": {
    "name": "ipython",
    "version": 3
   },
   "file_extension": ".py",
   "mimetype": "text/x-python",
   "name": "python",
   "nbconvert_exporter": "python",
   "pygments_lexer": "ipython3",
   "version": "3.12.0"
  }
 },
 "nbformat": 4,
 "nbformat_minor": 4
}
