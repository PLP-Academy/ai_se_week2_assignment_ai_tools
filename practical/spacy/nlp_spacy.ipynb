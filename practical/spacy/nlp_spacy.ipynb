{
 "cells": [
  {
   "cell_type": "markdown",
   "id": "5101032f",
   "metadata": {},
   "source": [
    "# Task 3 — Natural Language Processing with spaCy\n",
    "### Dataset: Amazon Product Reviews\n",
    "#### Objectives:\n",
    "- Perform Named Entity Recognition (NER) to extract product names, brands, and other entities.\n",
    "- Analyze the sentiment of each review using a simple rule-based approach."
   ]
  },
  {
   "cell_type": "code",
   "execution_count": 1,
   "id": "7cfa3ea5",
   "metadata": {},
   "outputs": [
    {
     "name": "stdout",
     "output_type": "stream",
     "text": [
      "spaCy version: 3.8.7\n"
     ]
    }
   ],
   "source": [
    "# ============================\n",
    "# 1. Import Dependencies\n",
    "# ============================\n",
    "# Import spaCy for advanced NLP tasks\n",
    "import spacy\n",
    "# Import pandas for data manipulation and creating DataFrames\n",
    "import pandas as pd\n",
    "\n",
    "# Print the installed spaCy version to confirm setup\n",
    "print('spaCy version:', spacy.about.__version__)"
   ]
  },
  {
   "cell_type": "code",
   "execution_count": 2,
   "id": "23db2323",
   "metadata": {},
   "outputs": [
    {
     "name": "stdout",
     "output_type": "stream",
     "text": [
      "Model loaded successfully!\n"
     ]
    }
   ],
   "source": [
    "# ============================\n",
    "# 2. Load English Language Model\n",
    "# ============================\n",
    "# Load the small English model provided by spaCy ('en_core_web_sm').\n",
    "# This model is trained for various NLP tasks, including NER.\n",
    "nlp = spacy.load('en_core_web_sm')\n",
    "print('Model loaded successfully!')"
   ]
  },
  {
   "cell_type": "code",
   "execution_count": 3,
   "id": "68e67db2",
   "metadata": {},
   "outputs": [
    {
     "data": {
      "text/html": [
       "<div>\n",
       "<style scoped>\n",
       "    .dataframe tbody tr th:only-of-type {\n",
       "        vertical-align: middle;\n",
       "    }\n",
       "\n",
       "    .dataframe tbody tr th {\n",
       "        vertical-align: top;\n",
       "    }\n",
       "\n",
       "    .dataframe thead th {\n",
       "        text-align: right;\n",
       "    }\n",
       "</style>\n",
       "<table border=\"1\" class=\"dataframe\">\n",
       "  <thead>\n",
       "    <tr style=\"text-align: right;\">\n",
       "      <th></th>\n",
       "      <th>Review</th>\n",
       "    </tr>\n",
       "  </thead>\n",
       "  <tbody>\n",
       "    <tr>\n",
       "      <th>0</th>\n",
       "      <td>I love the new Apple iPhone 14 Pro — the camer...</td>\n",
       "    </tr>\n",
       "    <tr>\n",
       "      <th>1</th>\n",
       "      <td>The Samsung Galaxy Watch battery dies too quic...</td>\n",
       "    </tr>\n",
       "    <tr>\n",
       "      <th>2</th>\n",
       "      <td>Sony headphones deliver crystal clear sound, t...</td>\n",
       "    </tr>\n",
       "    <tr>\n",
       "      <th>3</th>\n",
       "      <td>Avoid the cheap Lenovo charger — it broke afte...</td>\n",
       "    </tr>\n",
       "    <tr>\n",
       "      <th>4</th>\n",
       "      <td>The Dell XPS laptop is sleek and fast, perfect...</td>\n",
       "    </tr>\n",
       "  </tbody>\n",
       "</table>\n",
       "</div>"
      ],
      "text/plain": [
       "                                              Review\n",
       "0  I love the new Apple iPhone 14 Pro — the camer...\n",
       "1  The Samsung Galaxy Watch battery dies too quic...\n",
       "2  Sony headphones deliver crystal clear sound, t...\n",
       "3  Avoid the cheap Lenovo charger — it broke afte...\n",
       "4  The Dell XPS laptop is sleek and fast, perfect..."
      ]
     },
     "execution_count": 3,
     "metadata": {},
     "output_type": "execute_result"
    }
   ],
   "source": [
    "# ============================\n",
    "# 3. Create Sample Amazon Reviews\n",
    "# ============================\n",
    "# A list of sample product reviews to be analyzed.\n",
    "reviews = [\n",
    "    'I love the new Apple iPhone 14 Pro — the camera quality is amazing!',\n",
    "    'The Samsung Galaxy Watch battery dies too quickly. Disappointed.',\n",
    "    'Sony headphones deliver crystal clear sound, totally worth the price!',\n",
    "    'Avoid the cheap Lenovo charger — it broke after two days.',\n",
    "    'The Dell XPS laptop is sleek and fast, perfect for my work needs.'\n",
    "]\n",
    "\n",
    "# Create a pandas DataFrame to store and manage the reviews.\n",
    "df = pd.DataFrame(reviews, columns=['Review'])\n",
    "df"
   ]
  },
  {
   "cell_type": "code",
   "execution_count": 4,
   "id": "7e79f099",
   "metadata": {},
   "outputs": [
    {
     "data": {
      "text/html": [
       "<div>\n",
       "<style scoped>\n",
       "    .dataframe tbody tr th:only-of-type {\n",
       "        vertical-align: middle;\n",
       "    }\n",
       "\n",
       "    .dataframe tbody tr th {\n",
       "        vertical-align: top;\n",
       "    }\n",
       "\n",
       "    .dataframe thead th {\n",
       "        text-align: right;\n",
       "    }\n",
       "</style>\n",
       "<table border=\"1\" class=\"dataframe\">\n",
       "  <thead>\n",
       "    <tr style=\"text-align: right;\">\n",
       "      <th></th>\n",
       "      <th>Review</th>\n",
       "      <th>Entities</th>\n",
       "    </tr>\n",
       "  </thead>\n",
       "  <tbody>\n",
       "    <tr>\n",
       "      <th>0</th>\n",
       "      <td>I love the new Apple iPhone 14 Pro — the camer...</td>\n",
       "      <td>[(Apple, ORG), (iPhone 14 Pro, PRODUCT)]</td>\n",
       "    </tr>\n",
       "    <tr>\n",
       "      <th>1</th>\n",
       "      <td>The Samsung Galaxy Watch battery dies too quic...</td>\n",
       "      <td>[]</td>\n",
       "    </tr>\n",
       "    <tr>\n",
       "      <th>2</th>\n",
       "      <td>Sony headphones deliver crystal clear sound, t...</td>\n",
       "      <td>[(Sony, ORG)]</td>\n",
       "    </tr>\n",
       "    <tr>\n",
       "      <th>3</th>\n",
       "      <td>Avoid the cheap Lenovo charger — it broke afte...</td>\n",
       "      <td>[(Lenovo, ORG), (two days, DATE)]</td>\n",
       "    </tr>\n",
       "    <tr>\n",
       "      <th>4</th>\n",
       "      <td>The Dell XPS laptop is sleek and fast, perfect...</td>\n",
       "      <td>[]</td>\n",
       "    </tr>\n",
       "  </tbody>\n",
       "</table>\n",
       "</div>"
      ],
      "text/plain": [
       "                                              Review  \\\n",
       "0  I love the new Apple iPhone 14 Pro — the camer...   \n",
       "1  The Samsung Galaxy Watch battery dies too quic...   \n",
       "2  Sony headphones deliver crystal clear sound, t...   \n",
       "3  Avoid the cheap Lenovo charger — it broke afte...   \n",
       "4  The Dell XPS laptop is sleek and fast, perfect...   \n",
       "\n",
       "                                   Entities  \n",
       "0  [(Apple, ORG), (iPhone 14 Pro, PRODUCT)]  \n",
       "1                                        []  \n",
       "2                             [(Sony, ORG)]  \n",
       "3         [(Lenovo, ORG), (two days, DATE)]  \n",
       "4                                        []  "
      ]
     },
     "execution_count": 4,
     "metadata": {},
     "output_type": "execute_result"
    }
   ],
   "source": [
    "# ============================\n",
    "# 4. Perform Named Entity Recognition (NER)\n",
    "# ============================\n",
    "# Define a function to process text with the spaCy model and extract named entities.\n",
    "def extract_entities(text):\n",
    "    # Process the text with the loaded spaCy model.\n",
    "    doc = nlp(text)\n",
    "    # Extract the text and label for each entity found in the document.\n",
    "    entities = [(ent.text, ent.label_) for ent in doc.ents]\n",
    "    return entities\n",
    "\n",
    "# Apply the function to the 'Review' column to create a new 'Entities' column.\n",
    "df['Entities'] = df['Review'].apply(extract_entities)\n",
    "\n",
    "# Display the reviews and their extracted entities.\n",
    "df[['Review', 'Entities']]"
   ]
  },
  {
   "cell_type": "code",
   "execution_count": 5,
   "id": "46de192a",
   "metadata": {},
   "outputs": [
    {
     "data": {
      "text/html": [
       "<div>\n",
       "<style scoped>\n",
       "    .dataframe tbody tr th:only-of-type {\n",
       "        vertical-align: middle;\n",
       "    }\n",
       "\n",
       "    .dataframe tbody tr th {\n",
       "        vertical-align: top;\n",
       "    }\n",
       "\n",
       "    .dataframe thead th {\n",
       "        text-align: right;\n",
       "    }\n",
       "</style>\n",
       "<table border=\"1\" class=\"dataframe\">\n",
       "  <thead>\n",
       "    <tr style=\"text-align: right;\">\n",
       "      <th></th>\n",
       "      <th>Review</th>\n",
       "      <th>Entities</th>\n",
       "      <th>Sentiment</th>\n",
       "    </tr>\n",
       "  </thead>\n",
       "  <tbody>\n",
       "    <tr>\n",
       "      <th>0</th>\n",
       "      <td>I love the new Apple iPhone 14 Pro — the camer...</td>\n",
       "      <td>[(Apple, ORG), (iPhone 14 Pro, PRODUCT)]</td>\n",
       "      <td>Positive</td>\n",
       "    </tr>\n",
       "    <tr>\n",
       "      <th>1</th>\n",
       "      <td>The Samsung Galaxy Watch battery dies too quic...</td>\n",
       "      <td>[]</td>\n",
       "      <td>Negative</td>\n",
       "    </tr>\n",
       "    <tr>\n",
       "      <th>2</th>\n",
       "      <td>Sony headphones deliver crystal clear sound, t...</td>\n",
       "      <td>[(Sony, ORG)]</td>\n",
       "      <td>Positive</td>\n",
       "    </tr>\n",
       "    <tr>\n",
       "      <th>3</th>\n",
       "      <td>Avoid the cheap Lenovo charger — it broke afte...</td>\n",
       "      <td>[(Lenovo, ORG), (two days, DATE)]</td>\n",
       "      <td>Negative</td>\n",
       "    </tr>\n",
       "    <tr>\n",
       "      <th>4</th>\n",
       "      <td>The Dell XPS laptop is sleek and fast, perfect...</td>\n",
       "      <td>[]</td>\n",
       "      <td>Positive</td>\n",
       "    </tr>\n",
       "  </tbody>\n",
       "</table>\n",
       "</div>"
      ],
      "text/plain": [
       "                                              Review  \\\n",
       "0  I love the new Apple iPhone 14 Pro — the camer...   \n",
       "1  The Samsung Galaxy Watch battery dies too quic...   \n",
       "2  Sony headphones deliver crystal clear sound, t...   \n",
       "3  Avoid the cheap Lenovo charger — it broke afte...   \n",
       "4  The Dell XPS laptop is sleek and fast, perfect...   \n",
       "\n",
       "                                   Entities Sentiment  \n",
       "0  [(Apple, ORG), (iPhone 14 Pro, PRODUCT)]  Positive  \n",
       "1                                        []  Negative  \n",
       "2                             [(Sony, ORG)]  Positive  \n",
       "3         [(Lenovo, ORG), (two days, DATE)]  Negative  \n",
       "4                                        []  Positive  "
      ]
     },
     "execution_count": 5,
     "metadata": {},
     "output_type": "execute_result"
    }
   ],
   "source": [
    "# ============================\n",
    "# 5. Perform Rule-Based Sentiment Analysis\n",
    "# ============================\n",
    "# Define simple lists of positive and negative keywords.\n",
    "positive_words = ['love', 'amazing', 'great', 'good', 'fast', 'perfect', 'worth']\n",
    "negative_words = ['bad', 'disappointed', 'poor', 'broke', 'cheap', 'slow', 'terrible']\n",
    "\n",
    "# Define a function to analyze sentiment based on the presence of keywords.\n",
    "def analyze_sentiment(text):\n",
    "    text_lower = text.lower()\n",
    "    # Count positive and negative words in the review.\n",
    "    pos_count = sum(word in text_lower for word in positive_words)\n",
    "    neg_count = sum(word in text_lower for word in negative_words)\n",
    "    \n",
    "    # Determine sentiment based on the counts.\n",
    "    if pos_count > neg_count:\n",
    "        return 'Positive'\n",
    "    elif neg_count > pos_count:\n",
    "        return 'Negative'\n",
    "    else:\n",
    "        return 'Neutral'\n",
    "\n",
    "# Apply the sentiment analysis function to the 'Review' column.\n",
    "df['Sentiment'] = df['Review'].apply(analyze_sentiment)\n",
    "\n",
    "# Display the final DataFrame with reviews, entities, and sentiment.\n",
    "df[['Review', 'Entities', 'Sentiment']]"
   ]
  },
  {
   "cell_type": "code",
   "execution_count": 6,
   "id": "1a7eb458",
   "metadata": {},
   "outputs": [
    {
     "name": "stdout",
     "output_type": "stream",
     "text": [
      "Sample Review: I love the new Apple iPhone 14 Pro — the camera quality is amazing!\n",
      "\n",
      "Extracted Entities:\n",
      "  - Apple: ORG\n",
      "  - iPhone 14 Pro: PRODUCT\n"
     ]
    }
   ],
   "source": [
    "# ============================\n",
    "# 6. Display Sample Entities\n",
    "# ============================\n",
    "# Select a sample review for entity display.\n",
    "sample_text = reviews[0]\n",
    "# Process the text with the spaCy model.\n",
    "doc = nlp(sample_text)\n",
    "# Display entities in a simple text format.\n",
    "print('Sample Review:', sample_text)\n",
    "print('\\nExtracted Entities:')\n",
    "for ent in doc.ents:\n",
    "    print(f'  - {ent.text}: {ent.label_}')\n",
    "if not doc.ents:\n",
    "    print('  - No entities found in this review')"
   ]
  },
  {
   "cell_type": "markdown",
   "id": "a7cc75e4",
   "metadata": {},
   "source": [
    "### Deliverables:\n",
    "- Jupyter notebook: `nlp_spacy.ipynb`\n",
    "- Output table showing entities and sentiments for each review.\n",
    "- Text-based entity display for the sample review."
   ]
  }
 ],
 "metadata": {
  "kernelspec": {
   "display_name": ".venv",
   "language": "python",
   "name": "python3"
  },
  "language_info": {
   "codemirror_mode": {
    "name": "ipython",
    "version": 3
   },
   "file_extension": ".py",
   "mimetype": "text/x-python",
   "name": "python",
   "nbconvert_exporter": "python",
   "pygments_lexer": "ipython3",
   "version": "3.12.0"
  }
 },
 "nbformat": 4,
 "nbformat_minor": 5
}
